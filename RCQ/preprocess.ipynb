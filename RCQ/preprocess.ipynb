{
 "cells": [
  {
   "cell_type": "code",
   "execution_count": 1,
   "id": "69e37c99",
   "metadata": {},
   "outputs": [],
   "source": [
    "import pandas as pd"
   ]
  },
  {
   "cell_type": "markdown",
   "id": "e4852910",
   "metadata": {},
   "source": [
    "### 탐지한 결과중 spoof인 것만 따로 저장하기"
   ]
  },
  {
   "cell_type": "code",
   "execution_count": null,
   "id": "138f950e",
   "metadata": {},
   "outputs": [
    {
     "name": "stdout",
     "output_type": "stream",
     "text": [
      "병합된 결과 저장: /home/woongjae/AudioXplain/result/conformer_ps_merged.txt\n",
      "정답 spoof만 저장: /home/woongjae/AudioXplain/result/conformer_ps_spoof.txt, 18682개\n"
     ]
    }
   ],
   "source": [
    "# 파일 경로\n",
    "protocol_path = \"/home/woongjae/XAI/Datasets/ps_protocol.txt\"\n",
    "result_path   = \"/home/woongjae/XAI/protocol/aasist_PS.txt\"\n",
    "output_path   = \"/home/woongjae/XAI/protocol/aasist_ps_merged.txt\"\n",
    "correct_spoof_path = \"/home/woongjae/XAI/protocol/aasist_ps_spoof.txt\"\n",
    "\n",
    "# 1. 프로토콜 파일 읽기\n",
    "# 예: CON_E_0010673.wav eval spoof\n",
    "protocol_df = pd.read_csv(protocol_path, sep=\" \", header=None)\n",
    "protocol_df.columns = [\"utt\", \"subset\", \"label\"]\n",
    "\n",
    "# 2. 결과 파일 읽기\n",
    "# 예: CON_E_0010673.wav spoof\n",
    "result_df = pd.read_csv(result_path, sep=\" \", header=None)\n",
    "result_df.columns = [\"utt\", \"predict\"]\n",
    "\n",
    "# 3. 병합 (파일명 기준)\n",
    "merged_df = pd.merge(protocol_df, result_df, on=\"utt\", how=\"inner\")\n",
    "\n",
    "# 4. 합친 결과 저장\n",
    "merged_df.to_csv(output_path, sep=\" \", index=False)\n",
    "\n",
    "# 5. spoof를 spoof로 맞게 탐지한 경우만 필터링\n",
    "correct_spoof_df = merged_df[\n",
    "    (merged_df[\"label\"] == \"spoof\") & (merged_df[\"predict\"] == \"spoof\")\n",
    "]\n",
    "\n",
    "# 6. 결과 저장 (파일명만 저장하려면)\n",
    "correct_spoof_df[[\"utt\", \"label\"]].to_csv(correct_spoof_path, sep=\" \", index=False, header=False)\n",
    "\n",
    "print(f\"병합된 결과 저장: {output_path}\")\n",
    "print(f\"정답 spoof만 저장: {correct_spoof_path}, {len(correct_spoof_df)}개\")"
   ]
  },
  {
   "cell_type": "code",
   "execution_count": null,
   "id": "2a6e8d91",
   "metadata": {},
   "outputs": [],
   "source": []
  }
 ],
 "metadata": {
  "kernelspec": {
   "display_name": "aasist",
   "language": "python",
   "name": "python3"
  },
  "language_info": {
   "codemirror_mode": {
    "name": "ipython",
    "version": 3
   },
   "file_extension": ".py",
   "mimetype": "text/x-python",
   "name": "python",
   "nbconvert_exporter": "python",
   "pygments_lexer": "ipython3",
   "version": "3.8.20"
  }
 },
 "nbformat": 4,
 "nbformat_minor": 5
}
