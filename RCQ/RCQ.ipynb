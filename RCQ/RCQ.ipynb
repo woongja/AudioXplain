{
 "cells": [
  {
   "cell_type": "code",
   "execution_count": 24,
   "metadata": {},
   "outputs": [],
   "source": [
    "import os\n",
    "import pandas as pd\n",
    "import numpy as np\n",
    "from tqdm import tqdm"
   ]
  },
  {
   "cell_type": "markdown",
   "metadata": {},
   "source": [
    "# 파일 불러오기"
   ]
  },
  {
   "cell_type": "code",
   "execution_count": 64,
   "metadata": {},
   "outputs": [],
   "source": [
    "# 파일 경로 설정\n",
    "score_file_path = '/home/woonj/grad-cam/experiment_results/grad_cam_bonafide_score.txt'\n",
    "vad_directory_path = '/home/woonj/grad-cam/PartialSpoof/database/vad_20sil/eval'"
   ]
  },
  {
   "cell_type": "code",
   "execution_count": 65,
   "metadata": {},
   "outputs": [],
   "source": [
    "# grad_cam_spoof_score 파일 읽기\n",
    "grad_cam_data = {}\n",
    "with open(score_file_path, 'r') as f:\n",
    "    for line in f.readlines()[1:]:  # 첫 번째 라인은 헤더이므로 건너뜀\n",
    "        file_id, _, cam_values_str = line.strip().split(' ')\n",
    "        cam_values = np.array([float(x) for x in cam_values_str.split(',')])\n",
    "        grad_cam_data[file_id] = cam_values"
   ]
  },
  {
   "cell_type": "markdown",
   "metadata": {},
   "source": [
    "# RCQ 구하기"
   ]
  },
  {
   "cell_type": "markdown",
   "metadata": {},
   "source": [
    "### 전처리"
   ]
  },
  {
   "cell_type": "code",
   "execution_count": 66,
   "metadata": {},
   "outputs": [],
   "source": [
    "# 각 구간을 위한 점수 집계 변수 초기화\n",
    "total_scores = {'TR': 0, 'BS': 0, 'BN': 0, 'SS': 0, 'SN': 0}\n",
    "frame_counts = {'TR': 0, 'BS': 0, 'BN': 0, 'SS': 0, 'SN': 0}"
   ]
  },
  {
   "cell_type": "code",
   "execution_count": 67,
   "metadata": {},
   "outputs": [],
   "source": [
    "# 라벨 ID와 구간 이름 매핑\n",
    "label_mapping = {\n",
    "    0: 'BN',        # Bona fide Non-speech\n",
    "    1: 'BS',        # Bona fide Speech\n",
    "    2: 'SS', 3: 'SS', 4: 'SS', 5: 'SS', 6: 'SS', 7: 'SS', 8: 'SS', 9: 'SS', 10: 'SS',\n",
    "    11: 'SS', 12: 'SS', 13: 'SS', 14: 'SS', 15: 'SS', 16: 'SS', 17: 'SS', 18: 'SN', 19: 'SS', 20: 'SS', # Spoofed Speech 구간들 (A01 ~ A19)\n",
    "    100: 'TR',      # Transition Region\n",
    "    101: 'BN',      # Bona fide Non-speech (특정 타입)\n",
    "    102: 'SN', 103: 'SN', 104: 'SN', 105: 'SN', 106: 'SN', 107: 'SN', 108: 'SN', 109: 'SN', 110: 'SN',\n",
    "    111: 'SN', 112: 'SN', 113: 'SN', 114: 'SN', 115: 'SN', 116: 'SN', 117: 'SN', 118: 'SN', 119: 'SN', 120: 'SN'  # Spoofed Non-speech (nonA01 ~ nonA19)\n",
    "}"
   ]
  },
  {
   "cell_type": "markdown",
   "metadata": {},
   "source": [
    "### RCQ 값 구하기"
   ]
  },
  {
   "cell_type": "code",
   "execution_count": 68,
   "metadata": {},
   "outputs": [
    {
     "name": "stderr",
     "output_type": "stream",
     "text": [
      "Processing VAD files: 100%|██████████| 71237/71237 [29:26<00:00, 40.32it/s]\n"
     ]
    }
   ],
   "source": [
    "# vad 파일 목록에서 확장자 제거\n",
    "vad_files = [os.path.splitext(file)[0] for file in os.listdir(vad_directory_path) if file.endswith('.vad')]\n",
    "\n",
    "# 각 파일에 대해 VAD 정보를 읽어 Grad-CAM 점수와 매칭\n",
    "for vad_file in tqdm(vad_files, desc=\"Processing VAD files\"):\n",
    "    # grad-cam 점수가 없으면 건너뛰기\n",
    "    if vad_file not in grad_cam_data:\n",
    "        print(\"vad_file not in grad_cam_data\")\n",
    "        continue\n",
    "\n",
    "    # Grad-CAM 점수 로드\n",
    "    grad_cam_scores = grad_cam_data[vad_file] # 현재 vad_file에 대응하는 점수 저장\n",
    "    num_frames = len(grad_cam_scores) # 총 프레임 수 계산\n",
    "    frame_length = 0.02  # 각 프레임의 길이 (단위: 초) 20ms\n",
    "\n",
    "    # VAD 파일 경로 설정\n",
    "    vad_file_path = os.path.join(vad_directory_path, f\"{vad_file}.vad\")\n",
    "\n",
    "    # VAD 파일 읽기\n",
    "    vad_labels = [] # 구간 정보를 저장할 배열\n",
    "    with open(vad_file_path, 'r') as file:\n",
    "        for line in file:\n",
    "            start_time, end_time, label_id = line.strip().split()\n",
    "            vad_labels.append((float(start_time), float(end_time), int(label_id)))\n",
    "\n",
    "    # 각 프레임에 대한 라벨 할당\n",
    "    for frame_idx in tqdm(range(num_frames), desc=f\"Processing frames for {vad_file}\", leave=False):\n",
    "        frame_start_time = frame_idx * frame_length # 현재 프레임의 시작 시간\n",
    "        frame_end_time = (frame_idx + 1) * frame_length # 현재 프레임의 끝 시간\n",
    "        label_durations = {} # 각 라벨이 겹치는 구간을 저장\n",
    "\n",
    "        # 해당 프레임이 속하는 모든 VAD 구간 확인\n",
    "        for (start_time, end_time, label_id) in vad_labels:\n",
    "            overlap_start = max(frame_start_time, start_time) # 겹치는 시간 계산 -> 프레임 시작 시간과 VAD 구간 시간 중 더 큰 값\n",
    "            overlap_end = min(frame_end_time, end_time) # 프레임 끝 시간과 VAD 구간 끝 시간중 더 작은 값\n",
    "            if overlap_start < overlap_end:  # 프레임과 VAD 구간이 겹치는 경우\n",
    "                overlap_duration = overlap_end - overlap_start # 겹치는 구간의 길이를 계산\n",
    "                label_name = label_mapping.get(label_id, None) # 라벨 id를 매핑하여 구간 이름 가져오기 -> 매핑 되지 않으면 None\n",
    "\n",
    "                if label_name:\n",
    "                    if label_name not in label_durations: # 겹치는 구간 딕셔너리에 해당 라벨이 없으면 초기화한다.\n",
    "                        label_durations[label_name] = 0\n",
    "                    label_durations[label_name] += overlap_duration\n",
    "\n",
    "        # 가장 긴 시간을 차지하는 라벨을 선택\n",
    "        if label_durations:\n",
    "            assigned_label = max(label_durations, key=label_durations.get) # 겹치는 시간이 가장 긴 라벨을 선택\n",
    "\n",
    "            # 구간에 맞는 라벨이 있는 경우 점수 집계\n",
    "            if assigned_label in total_scores:\n",
    "                total_scores[assigned_label] += grad_cam_scores[frame_idx]\n",
    "                frame_counts[assigned_label] += 1"
   ]
  },
  {
   "cell_type": "code",
   "execution_count": 69,
   "metadata": {},
   "outputs": [
    {
     "name": "stdout",
     "output_type": "stream",
     "text": [
      "{'TR': 5.406169090358454e-05, 'BS': 0.00016001258435394624, 'BN': 0.00011696894864430369, 'SS': -9.475556798409995e-05, 'SN': -9.039189209921813e-06}\n"
     ]
    }
   ],
   "source": [
    "# 각 구간의 평균 Grad-CAM 점수 계산\n",
    "# target_class = bonafide\n",
    "average_scores = {label: total_scores[label] / frame_counts[label] if frame_counts[label] > 0 else 0 for label in total_scores}\n",
    "print(average_scores)"
   ]
  },
  {
   "cell_type": "code",
   "execution_count": 72,
   "metadata": {},
   "outputs": [
    {
     "name": "stdout",
     "output_type": "stream",
     "text": [
      "RCQ 값:\n",
      "구간 TR: -20.71%\n",
      "구간 BS: 134.68%\n",
      "구간 BN: 71.55%\n",
      "구간 SS: -238.97%\n",
      "구간 SN: -113.26%\n"
     ]
    }
   ],
   "source": [
    "# 전체 평균 Grad-CAM 점수 계산\n",
    "# target_class = bonafide\n",
    "overall_average_score = sum(total_scores.values()) / sum(frame_counts.values())\n",
    "\n",
    "# 각 구간에 대한 RCQ 계산\n",
    "rcq_values = {}\n",
    "for label, avg_score in average_scores.items():\n",
    "    rcq_values[label] = ((avg_score - overall_average_score) / abs(overall_average_score)) * 100\n",
    "\n",
    "# RCQ 값 출력\n",
    "print(\"RCQ 값:\")\n",
    "for label, rcq in rcq_values.items():\n",
    "    print(f\"구간 {label}: {rcq:.2f}%\")"
   ]
  },
  {
   "cell_type": "code",
   "execution_count": 63,
   "metadata": {},
   "outputs": [
    {
     "name": "stdout",
     "output_type": "stream",
     "text": [
      "{'TR': -5.445364061363494e-05, 'BS': -0.00016066983568008804, 'BN': -0.00011731160405126448, 'SS': 9.406910362516034e-05, 'SN': 8.753507511852358e-06}\n"
     ]
    }
   ],
   "source": [
    "# 각 구간의 평균 Grad-CAM 점수 계산\n",
    "# target_class = spoof\n",
    "average_scores = {label: total_scores[label] / frame_counts[label] if frame_counts[label] > 0 else 0 for label in total_scores}\n",
    "print(average_scores)"
   ]
  },
  {
   "cell_type": "code",
   "execution_count": 62,
   "metadata": {},
   "outputs": [
    {
     "name": "stdout",
     "output_type": "stream",
     "text": [
      "RCQ 값:\n",
      "구간 TR: -20.77%\n",
      "구간 BS: 133.77%\n",
      "구간 BN: 70.68%\n",
      "구간 SS: -236.87%\n",
      "구간 SN: -112.74%\n"
     ]
    }
   ],
   "source": [
    "# 전체 평균 Grad-CAM 점수 계산\n",
    "# target_class = spoof\n",
    "overall_average_score = sum(total_scores.values()) / sum(frame_counts.values())\n",
    "\n",
    "# 각 구간에 대한 RCQ 계산\n",
    "rcq_values = {}\n",
    "for label, avg_score in average_scores.items():\n",
    "    rcq_values[label] = ((avg_score - overall_average_score) / overall_average_score) * 100\n",
    "\n",
    "# RCQ 값 출력\n",
    "print(\"RCQ 값:\")\n",
    "for label, rcq in rcq_values.items():\n",
    "    print(f\"구간 {label}: {rcq:.2f}%\")"
   ]
  },
  {
   "cell_type": "code",
   "execution_count": 48,
   "metadata": {},
   "outputs": [
    {
     "name": "stdout",
     "output_type": "stream",
     "text": [
      "Grad-CAM 점수 파일을 읽는 중...\n",
      "CON_E_0009987에 대한 Grad-CAM 점수 로드 완료 - 총 92개의 프레임 점수\n",
      "VAD 파일 로드 완료\n",
      "총 14개의 VAD 라벨 구간 로드 완료\n",
      "오디오 전체 길이: 1.8591초\n",
      "총 프레임 수: 92 프레임\n",
      "각 프레임에 대해 라벨 할당 및 점수 집계 시작...\n",
      "프레임 1/92: 라벨 SN, 점수 3.9745457e-05\n",
      "프레임 2/92: 라벨 SN, 점수 3.9645915e-05\n",
      "프레임 3/92: 라벨 BN, 점수 3.8910184e-05\n",
      "프레임 4/92: 라벨 BS, 점수 3.921593e-05\n",
      "프레임 5/92: 라벨 BS, 점수 3.942642e-05\n",
      "프레임 6/92: 라벨 BS, 점수 4.004636e-05\n",
      "프레임 7/92: 라벨 BS, 점수 3.9369916e-05\n",
      "프레임 8/92: 라벨 BS, 점수 3.913652e-05\n",
      "프레임 9/92: 라벨 BS, 점수 3.903878e-05\n",
      "프레임 10/92: 라벨 BS, 점수 3.930866e-05\n",
      "프레임 11/92: 라벨 BS, 점수 3.9532206e-05\n",
      "프레임 12/92: 라벨 BS, 점수 3.9170947e-05\n",
      "프레임 13/92: 라벨 BN, 점수 3.9130668e-05\n",
      "프레임 14/92: 라벨 BN, 점수 3.899973e-05\n",
      "프레임 15/92: 라벨 BN, 점수 3.855354e-05\n",
      "프레임 16/92: 라벨 BN, 점수 3.894885e-05\n",
      "프레임 17/92: 라벨 BN, 점수 3.8178798e-05\n",
      "프레임 18/92: 라벨 BN, 점수 3.887451e-05\n",
      "프레임 19/92: 라벨 BN, 점수 3.9020517e-05\n",
      "프레임 20/92: 라벨 BN, 점수 3.9415656e-05\n",
      "프레임 21/92: 라벨 BN, 점수 3.9146355e-05\n",
      "프레임 22/92: 라벨 BN, 점수 3.8031416e-05\n",
      "프레임 23/92: 라벨 BN, 점수 3.9548915e-05\n",
      "프레임 24/92: 라벨 BN, 점수 3.872481e-05\n",
      "프레임 25/92: 라벨 BN, 점수 3.9086604e-05\n",
      "프레임 26/92: 라벨 BN, 점수 3.8988128e-05\n",
      "프레임 27/92: 라벨 BS, 점수 3.8348175e-05\n",
      "프레임 28/92: 라벨 BS, 점수 3.8933475e-05\n",
      "프레임 29/92: 라벨 BS, 점수 3.9248633e-05\n",
      "프레임 30/92: 라벨 BS, 점수 3.8246355e-05\n",
      "프레임 31/92: 라벨 BS, 점수 3.8368722e-05\n",
      "프레임 32/92: 라벨 BS, 점수 3.8967533e-05\n",
      "프레임 33/92: 라벨 BS, 점수 3.8299324e-05\n",
      "프레임 34/92: 라벨 BS, 점수 3.8665712e-05\n",
      "프레임 35/92: 라벨 BS, 점수 3.8871454e-05\n",
      "프레임 36/92: 라벨 BS, 점수 3.828793e-05\n",
      "프레임 37/92: 라벨 BS, 점수 3.8742895e-05\n",
      "프레임 38/92: 라벨 BS, 점수 3.9016908e-05\n",
      "프레임 39/92: 라벨 BS, 점수 3.8468614e-05\n",
      "프레임 40/92: 라벨 BS, 점수 3.8639388e-05\n",
      "프레임 41/92: 라벨 BS, 점수 3.87542e-05\n",
      "프레임 42/92: 라벨 BS, 점수 3.866361e-05\n",
      "프레임 43/92: 라벨 BS, 점수 3.8892227e-05\n",
      "프레임 44/92: 라벨 BS, 점수 3.8917588e-05\n",
      "프레임 45/92: 라벨 BS, 점수 3.8676066e-05\n",
      "프레임 46/92: 라벨 BS, 점수 3.7575555e-05\n",
      "프레임 47/92: 라벨 BS, 점수 3.7846068e-05\n",
      "프레임 48/92: 라벨 SS, 점수 3.8078782e-05\n",
      "프레임 49/92: 라벨 SS, 점수 3.8629707e-05\n",
      "프레임 50/92: 라벨 SS, 점수 3.928067e-05\n",
      "프레임 51/92: 라벨 SS, 점수 3.9164363e-05\n",
      "프레임 52/92: 라벨 SS, 점수 3.8944334e-05\n",
      "프레임 53/92: 라벨 SS, 점수 3.8173603e-05\n",
      "프레임 54/92: 라벨 SS, 점수 3.840489e-05\n",
      "프레임 55/92: 라벨 SS, 점수 3.8759637e-05\n",
      "프레임 56/92: 라벨 SS, 점수 3.8564256e-05\n",
      "프레임 57/92: 라벨 SS, 점수 3.812111e-05\n",
      "프레임 58/92: 라벨 SS, 점수 3.8075756e-05\n",
      "프레임 59/92: 라벨 SS, 점수 3.827265e-05\n",
      "프레임 60/92: 라벨 SS, 점수 3.847127e-05\n",
      "프레임 61/92: 라벨 SS, 점수 3.8280432e-05\n",
      "프레임 62/92: 라벨 SS, 점수 3.785341e-05\n",
      "프레임 63/92: 라벨 SS, 점수 3.7625497e-05\n",
      "프레임 64/92: 라벨 SS, 점수 3.8661703e-05\n",
      "프레임 65/92: 라벨 SS, 점수 3.8208404e-05\n",
      "프레임 66/92: 라벨 SS, 점수 3.7964797e-05\n",
      "프레임 67/92: 라벨 SS, 점수 3.8129263e-05\n",
      "프레임 68/92: 라벨 SS, 점수 3.8192902e-05\n",
      "프레임 69/92: 라벨 SS, 점수 3.8275542e-05\n",
      "프레임 70/92: 라벨 SS, 점수 3.8474755e-05\n",
      "프레임 71/92: 라벨 SS, 점수 3.8667495e-05\n",
      "프레임 72/92: 라벨 SS, 점수 3.8720893e-05\n",
      "프레임 73/92: 라벨 SN, 점수 3.9090184e-05\n",
      "프레임 74/92: 라벨 SN, 점수 3.9539038e-05\n",
      "프레임 75/92: 라벨 SN, 점수 3.89858e-05\n",
      "프레임 76/92: 라벨 SN, 점수 3.8075195e-05\n",
      "프레임 77/92: 라벨 SN, 점수 3.923796e-05\n",
      "프레임 78/92: 라벨 SN, 점수 3.8999933e-05\n",
      "프레임 79/92: 라벨 SN, 점수 3.8568403e-05\n",
      "프레임 80/92: 라벨 SN, 점수 3.904066e-05\n",
      "프레임 81/92: 라벨 SN, 점수 3.899229e-05\n",
      "프레임 82/92: 라벨 SN, 점수 3.912479e-05\n",
      "프레임 83/92: 라벨 SN, 점수 3.936697e-05\n",
      "프레임 84/92: 라벨 SN, 점수 3.9119295e-05\n",
      "프레임 85/92: 라벨 SN, 점수 3.9615254e-05\n",
      "프레임 86/92: 라벨 SN, 점수 3.903057e-05\n",
      "프레임 87/92: 라벨 SN, 점수 3.9665465e-05\n",
      "프레임 88/92: 라벨 SN, 점수 3.798804e-05\n",
      "프레임 89/92: 라벨 SN, 점수 3.936806e-05\n",
      "프레임 90/92: 라벨 SN, 점수 3.8925147e-05\n",
      "프레임 91/92: 라벨 SN, 점수 3.9591825e-05\n",
      "프레임 92/92: 라벨 SN, 점수 3.990826e-05\n",
      "프레임 점수 집계 완료\n",
      "각 구간의 평균 Grad-CAM 점수 계산 완료\n",
      "구간 TR: 평균 점수 0\n",
      "구간 BS: 평균 점수 3.882253903333334e-05\n",
      "구간 BN: 평균 점수 3.890391206666667e-05\n",
      "구간 SS: 평균 점수 3.8399844840000004e-05\n",
      "구간 SN: 평균 점수 3.91647505e-05\n",
      "전체 평균 Grad-CAM 점수: 3.8802777e-05\n",
      "RCQ 값:\n",
      "구간 TR: -100.00%\n",
      "구간 BS: 0.05%\n",
      "구간 BN: 0.26%\n",
      "구간 SS: -1.04%\n",
      "구간 SN: 0.93%\n"
     ]
    }
   ],
   "source": [
    "# 파일 경로 설정\n",
    "score_file_path = '/home/woonj/grad-cam/experiment_results/grad_cam_spoof_score.txt'\n",
    "\n",
    "# 파일 ID 설정 (VAD 파일과 동일한 파일 ID 사용)\n",
    "file_id = 'CON_E_0009987'\n",
    "\n",
    "# Grad-CAM 점수 파일 읽기 및 해당 파일의 점수 추출\n",
    "grad_cam_scores = None\n",
    "print(\"Grad-CAM 점수 파일을 읽는 중...\")\n",
    "with open(score_file_path, 'r') as f:\n",
    "    for line in f.readlines()[1:]:  # 첫 번째 라인은 헤더이므로 건너뜀\n",
    "        current_file_id, _, cam_values_str = line.strip().split(' ')\n",
    "        if current_file_id == file_id:\n",
    "            cam_values_list = cam_values_str.split(',')\n",
    "            grad_cam_scores = np.array([float(x) for x in cam_values_list])\n",
    "            break\n",
    "\n",
    "# 점수를 찾지 못한 경우 오류 출력\n",
    "if grad_cam_scores is None:\n",
    "    raise ValueError(f\"{file_id}에 대한 Grad-CAM 점수를 찾을 수 없습니다.\")\n",
    "print(f\"{file_id}에 대한 Grad-CAM 점수 로드 완료 - 총 {len(grad_cam_scores)}개의 프레임 점수\")\n",
    "\n",
    "# VAD 파일 내용 (예시)\n",
    "vad_content = \"\"\"\n",
    "0.0 0.0323 117\n",
    "0.0323 0.04 100\n",
    "0.04 0.062200000000000005 101\n",
    "0.0622 0.2422 1\n",
    "0.2422 0.5159 101\n",
    "0.5159 0.5217 100\n",
    "0.5218 0.5285000000000001 117\n",
    "0.5284 0.5285 101\n",
    "0.5285 0.9285 1\n",
    "0.9285 0.9311 101\n",
    "0.9311 0.9335 100\n",
    "0.9335 0.9411 117\n",
    "0.9411 1.4311 17\n",
    "1.4311 1.8591 117\n",
    "\"\"\"\n",
    "print(\"VAD 파일 로드 완료\")\n",
    "\n",
    "# 라벨 ID와 구간 이름 매핑\n",
    "label_mapping = {\n",
    "    0: 'BN', 1: 'BS',\n",
    "    17: 'SS', 100: 'TR', 101: 'BN',\n",
    "    117: 'SN'\n",
    "}\n",
    "\n",
    "# VAD 데이터를 파싱하여 리스트로 저장\n",
    "vad_labels = []\n",
    "for line in vad_content.strip().split('\\n'):\n",
    "    start_time, end_time, label_id = line.strip().split()\n",
    "    vad_labels.append((float(start_time), float(end_time), int(label_id)))\n",
    "\n",
    "print(f\"총 {len(vad_labels)}개의 VAD 라벨 구간 로드 완료\")\n",
    "\n",
    "# 프레임 길이 설정\n",
    "frame_length = 0.02  # 각 프레임의 길이 (단위: 초)\n",
    "\n",
    "# 오디오 전체 길이 계산\n",
    "total_audio_length = max(end_time for _, end_time, _ in vad_labels)\n",
    "print(f\"오디오 전체 길이: {total_audio_length:.4f}초\")\n",
    "\n",
    "# 총 프레임 수 계산\n",
    "num_frames = int(np.ceil(total_audio_length / frame_length))\n",
    "num_frames = min(num_frames, len(grad_cam_scores))  # grad_cam_scores 길이와 일치하도록 조정\n",
    "print(f\"총 프레임 수: {num_frames} 프레임\")\n",
    "\n",
    "# 각 구간별 점수 집계 및 프레임 개수를 세기 위한 초기화\n",
    "total_scores = {'TR': 0, 'BS': 0, 'BN': 0, 'SS': 0, 'SN': 0}\n",
    "frame_counts = {'TR': 0, 'BS': 0, 'BN': 0, 'SS': 0, 'SN': 0}\n",
    "\n",
    "# 각 프레임에 대한 라벨 할당 및 점수 집계\n",
    "print(\"각 프레임에 대해 라벨 할당 및 점수 집계 시작...\")\n",
    "for frame_idx in range(num_frames):\n",
    "    frame_start_time = frame_idx * frame_length\n",
    "    frame_end_time = (frame_idx + 1) * frame_length\n",
    "    assigned_label = None\n",
    "    label_durations = {}\n",
    "\n",
    "    # 해당 프레임이 속하는 모든 VAD 구간 확인\n",
    "    for (start_time, end_time, label_id) in vad_labels:\n",
    "        overlap_start = max(frame_start_time, start_time)\n",
    "        overlap_end = min(frame_end_time, end_time)\n",
    "        if overlap_start < overlap_end:  # 프레임과 VAD 구간이 겹치는 경우\n",
    "            overlap_duration = overlap_end - overlap_start\n",
    "            label_name = label_mapping.get(label_id, None)\n",
    "\n",
    "            if label_name:\n",
    "                if label_name not in label_durations:\n",
    "                    label_durations[label_name] = 0\n",
    "                label_durations[label_name] += overlap_duration\n",
    "\n",
    "    # 가장 긴 시간을 차지하는 라벨을 선택\n",
    "    if label_durations:\n",
    "        assigned_label = max(label_durations, key=label_durations.get)\n",
    "\n",
    "    # 라벨이 할당된 경우, 해당 구간의 점수 집계 및 프레임 개수 증가\n",
    "    if assigned_label is not None:\n",
    "        total_scores[assigned_label] += grad_cam_scores[frame_idx]\n",
    "        frame_counts[assigned_label] += 1\n",
    "\n",
    "        # 각 프레임 처리 상태 출력\n",
    "        print(f\"프레임 {frame_idx + 1}/{num_frames}: 라벨 {assigned_label}, 점수 {grad_cam_scores[frame_idx]}\")\n",
    "\n",
    "print(\"프레임 점수 집계 완료\")\n",
    "\n",
    "# 각 구간의 평균 Grad-CAM 점수 계산\n",
    "average_scores = {label: (total_scores[label] / frame_counts[label]) if frame_counts[label] > 0 else 0 for label in total_scores}\n",
    "print(\"각 구간의 평균 Grad-CAM 점수 계산 완료\")\n",
    "for label, avg_score in average_scores.items():\n",
    "    print(f\"구간 {label}: 평균 점수 {avg_score}\")\n",
    "\n",
    "# 전체 평균 Grad-CAM 점수 계산\n",
    "overall_average_score = sum(total_scores.values()) / sum(frame_counts.values())\n",
    "print(f\"전체 평균 Grad-CAM 점수: {overall_average_score}\")\n",
    "\n",
    "# 각 구간에 대한 RCQ 계산\n",
    "rcq_values = {}\n",
    "for label, avg_score in average_scores.items():\n",
    "    rcq_values[label] = ((avg_score - overall_average_score) / overall_average_score) * 100\n",
    "\n",
    "# RCQ 값 출력\n",
    "print(\"RCQ 값:\")\n",
    "for label, rcq in rcq_values.items():\n",
    "    print(f\"구간 {label}: {rcq:.2f}%\")\n"
   ]
  },
  {
   "cell_type": "code",
   "execution_count": null,
   "metadata": {},
   "outputs": [],
   "source": []
  }
 ],
 "metadata": {
  "kernelspec": {
   "display_name": "grad_cam",
   "language": "python",
   "name": "python3"
  },
  "language_info": {
   "codemirror_mode": {
    "name": "ipython",
    "version": 3
   },
   "file_extension": ".py",
   "mimetype": "text/x-python",
   "name": "python",
   "nbconvert_exporter": "python",
   "pygments_lexer": "ipython3",
   "version": "3.9.19"
  }
 },
 "nbformat": 4,
 "nbformat_minor": 2
}
